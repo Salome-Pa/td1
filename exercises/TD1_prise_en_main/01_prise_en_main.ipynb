{
 "cells": [
  {
   "cell_type": "markdown",
   "metadata": {},
   "source": [
    "# TD 1: Environnement de programmation et premiers pas avec Python"
   ]
  },
  {
   "cell_type": "markdown",
   "metadata": {},
   "source": [
    "---\n",
    "\n",
    "## 1.Vérification de l'installation de l'environnement de programmation\n",
    "\n",
    "Avant de débuter ce td, vous devez avoir suivi la procédure d'installation [INSTALL.md](https://github.com/uvsq-info/l1-python/blob/master/INSTALL.md) si vous utilisez votre ordinateur personnel. Et, que vous utilisiez votre ordinateur personnel ou bien un ordinateur du cartable numérique, vous avez testé toutes les étapes du [tutoriel de prise en main de l'environnement de programmation](https://github.com/uvsq-info/l1-python/blob/master/README.md) jusqu'à la partie **utilisation du projet dans un terminal**. Si un des tests ne marche pas, appelez un enseignant. Si vous ne réusissez pas à exécuter le code du notebook, et en attendant que l'on vienne vous aider, vous pouvez travailler en utilisant un [notebook en ligne](https://colab.research.google.com/notebooks/intro.ipynb). Le notebook en ligne est aussi une solution pour programmer depuis chez vous si vous n'avez pas installé l'environnement correctement. Mais la solution privilégiée reste d'installer l'environnement.\n",
    "\n",
    "Tout au long du travail que vous ferez sur le notebook, pensez à le sauvegarder en cliquant sur l'icône en haut à gauche du notebook. A la fin du td, mais également à la fin de chaque section du notebook, pensez à sauvegardez votre travail sur votre compte github. \n",
    "\n",
    "Ce td commence en présentiel, et la fin sera traitée dans le td à distance de la semaine prochaine.\n",
    "\n"
   ]
  },
  {
   "cell_type": "markdown",
   "metadata": {},
   "source": [
    "---\n",
    "## 2.Utilisation du notebook Python\n",
    "\n",
    "Dans un premier temps, nous allons voir comment utiliser le notebook. Le notebook permet d'écrire du code que l'on peut évaluer au fur et à mesure. Plus tard, nous programmerons dans un fichier texte, en utilisant l'éditeur VisualStudioCode (VSCode dans la suite) et l'environnement qu'il fournit pour écrire des programmes en Python. \n",
    "\n",
    "Un notebook contient des *cellules* qui sont de deux sortes: il y a des cellules de texte écrites dans un langage de mise en forme de texte appelé *Markdown*, et les cellules de code que vous allez remplir. Les cellules de code sont précédées de crochets `[-]` avec un tiret ou un numéro dedans (notez que la présentation peut être différente avec un autre éditeur de notebook).\n",
    "\n",
    "1. Dans la cellule de code suivante, tapez `1 + 1` puis évaluez la cellule en cliquant sur la flèche verte en haut à gauche de la cellule.\n",
    "\n",
    "\n"
   ]
  },
  {
   "cell_type": "code",
   "execution_count": null,
   "metadata": {},
   "outputs": [],
   "source": [
    "1+1"
   ]
  },
  {
   "source": [
    "2. Cliquez de nouveau sur cette cellule et appuyez sur les touches `SHIFT + ENTREE` du clavier.\n",
    "\n",
    "**Note**: Cela évalue également la cellule de code. Remarquez le numéro qui s'affiche dans les crochets: c'est *l'ordre d'évaluation* de la cellule. \n",
    "\n",
    "3. Dans la cellule suivante, affectez le résultat de l'expression `1 + 1` à une variable notée `a`. Bien entendu, évaluez la cellule (on ne le rappellera pas systématiquement)."
   ],
   "cell_type": "code",
   "metadata": {},
   "execution_count": null,
   "outputs": []
  },
  {
   "cell_type": "code",
   "execution_count": 2,
   "metadata": {
    "tags": []
   },
   "outputs": [],
   "source": [
    "a=1+1"
   ]
  },
  {
   "source": [
    "5. Testez maintenant l'expression `print(a)`."
   ],
   "cell_type": "code",
   "metadata": {},
   "execution_count": null,
   "outputs": []
  },
  {
   "cell_type": "code",
   "execution_count": 3,
   "metadata": {
    "tags": []
   },
   "outputs": [
    {
     "output_type": "stream",
     "name": "stdout",
     "text": "2\n"
    }
   ],
   "source": [
    "print(a)"
   ]
  },
  {
   "cell_type": "markdown",
   "metadata": {},
   "source": [
    "Le résultat est identique. La première méthode fonctionne dans le notebook, mais pas dans un programme Python. C'est pourquoi il vaut mieux utiliser la deuxième méthode qui repose sur l'utilisation de la *fonction native* `print()`. L'ensemble de ces fonctions est [disponible ici](https://docs.python.org/fr/3.5/library/functions.html).\n",
    "\n",
    "6. Augmentez de 1 la valeur de `a`. L'expression doit donner le bon résultat quelle que soit la valeur de la variable."
   ]
  },
  {
   "cell_type": "code",
   "execution_count": null,
   "metadata": {},
   "outputs": [],
   "source": [
    "a=a+1+1"
   ]
  },
  {
   "cell_type": "code",
   "execution_count": null,
   "metadata": {},
   "outputs": [],
   "source": [
    "a += 1"
   ]
  },
  {
   "cell_type": "markdown",
   "metadata": {},
   "source": [
    "Et vérifiez en affichant la valeur de `a`."
   ]
  },
  {
   "cell_type": "code",
   "execution_count": null,
   "metadata": {
    "tags": []
   },
   "outputs": [],
   "source": [
    "print(a)"
   ]
  },
  {
   "source": [
    "7. Ré-évaluez toutes les cellules où vous avez affiché la valeur de `a`. Que remarquez-vous? On voit ici que ce qui compte dans le notebook est *l'ordre d'évaluation* et non pas *l'ordre d'apparition* des cellules. Ce comportement est source d'erreur, il faut donc bien y faire attention.\n",
    "\n",
    "\n",
    "8. Sans écrire de code supplémentaire, augmentez encore de 1 la valeur de `a`, et vérifiez que ça a bien fonctionné.\n",
    "\n",
    "\n",
    "**Note**: les 5 questions suivantes sont relatives à l'usage du notebook dans VSCode. Si vous travaillez avec un autre type de notebook, il est possible que vous n'ayez pas accès à toutes ces fonctionnalités.\n",
    "\n",
    "9. Parmi les icônes qui apparaissent en haut du notebook, trouvez celui qui affiche `clear all output`. Cliquez dessus, puis ré-évaluez la variable `a`.\n",
    "\n",
    "10. Parmi les icônes qui apparaissent en haut du notebook, trouvez celui qui affiche `show variables active in jupyter kernel`. Cliquez dessus et regardez le résultat. Cet outil est très utile pour comprendre les erreurs liées à l'ordre d'évaluation des cellules.\n",
    "\n",
    "11. Parmi les icônes qui apparaissent en haut du notebook, trouvez celui qui affiche `restart IPython kernel`. Cliquez dessus et regardez le résultat dans l'affichage des variables. Ré-évaluez la variable `a`. Que se passe-t'il?\n",
    "\n",
    "12. Dans cette même barre, trouvez l'icône qui permet d'évaluer toutes les cellules se trouvant au-dessus de ce bloc de texte.\n",
    "\n",
    "13. Enfin, sauvegardez votre travail.\n",
    "\n",
    "14. Dans la cellule suivante, affectez la valeur 5 à la variable `a` et la valeur 2 à la variable `b`, puis afficher les 2 valeurs avec l'expression `print(a, b)`.\n"
   ],
   "cell_type": "code",
   "metadata": {},
   "execution_count": null,
   "outputs": []
  },
  {
   "cell_type": "code",
   "execution_count": null,
   "metadata": {},
   "outputs": [],
   "source": [
    "\"apres restart, la variable a n est plus definie\""
   ]
  },
  {
   "cell_type": "code",
   "execution_count": 2,
   "metadata": {
    "tags": []
   },
   "outputs": [
    {
     "output_type": "stream",
     "name": "stdout",
     "text": "5 2\n"
    }
   ],
   "source": [
    "a=5\n",
    "b=2\n",
    "print(a, b)"
   ]
  },
  {
   "cell_type": "markdown",
   "metadata": {},
   "source": [
    "15. Ecrivez le code qui permet d'échanger la valeur des variables `a` et `b`. Puis affichez leurs valeurs."
   ]
  },
  {
   "cell_type": "code",
   "execution_count": 3,
   "metadata": {
    "tags": []
   },
   "outputs": [
    {
     "output_type": "stream",
     "name": "stdout",
     "text": "2 5\n"
    }
   ],
   "source": [
    "a,b = b,a\n",
    "print(a,b)"
   ]
  },
  {
   "cell_type": "code",
   "execution_count": null,
   "metadata": {},
   "outputs": [],
   "source": [
    "ou prendre 3e varia c\n",
    "c=b\n",
    "b=a\n",
    "a=c "
   ]
  },
  {
   "cell_type": "markdown",
   "metadata": {},
   "source": [
    "16. Pour enrichir l'affichage, recopiez l'expression `print(\"a vaut\", a, \"et b vaut\", b)`."
   ]
  },
  {
   "cell_type": "code",
   "execution_count": 4,
   "metadata": {
    "tags": []
   },
   "outputs": [
    {
     "output_type": "stream",
     "name": "stdout",
     "text": "a vaut 2 et b vaut 5\n"
    }
   ],
   "source": [
    "print(\"a vaut\", a, \"et b vaut\", b)"
   ]
  },
  {
   "cell_type": "markdown",
   "metadata": {},
   "source": [
    "17.  Recopiez l'affectation suivante `a = \"hello world\"`, puis affichez la valeur de `a`."
   ]
  },
  {
   "cell_type": "code",
   "execution_count": 5,
   "metadata": {
    "tags": []
   },
   "outputs": [
    {
     "output_type": "stream",
     "name": "stdout",
     "text": "hello world\n"
    }
   ],
   "source": [
    "a = \"hello world\"\n",
    "print (a)"
   ]
  },
  {
   "cell_type": "markdown",
   "metadata": {},
   "source": [
    "**Note**: la variable `a` contenait un entier, et maintenant une chaîne de caractères. En Python les variables ont un *type dynamique* contrairement au type statique où le type des variables est défini une fois pour toutes. De plus ce typage est *implicite*, c'est-à-dire qu'il est déterminé par les objets auxquels les variables font référence sans avoir besoin de l'écrire explicitement.\n",
    "\n",
    "18. Afficher de nouveau la valeur de `a` sans utiliser la fonction `print`. Que constatez-vous?\n",
    "\n",
    "19. Avant de passer à la suite, sauvegardez votre notebook, et sauvegardez le sur github."
   ]
  },
  {
   "cell_type": "code",
   "execution_count": 6,
   "metadata": {},
   "outputs": [
    {
     "output_type": "execute_result",
     "data": {
      "text/plain": "'hello world'"
     },
     "metadata": {},
     "execution_count": 6
    }
   ],
   "source": [
    "a"
   ]
  },
  {
   "cell_type": "markdown",
   "metadata": {},
   "source": [
    "\n",
    "-------------------\n",
    "## 3.Types de données\n",
    "En Python, toute variable ou expression possède un *type* qui définit, entre autres, les opérations que l'on peut lui  appliquer. Parmi les types natifs on peut citer les nombres entiers, les nombres flottants, les chaînes de caractères (string en anglais) et les booléens (Vrai ou Faux).\n",
    "\n",
    "\n",
    "1. Prédisez le type de chacune des expressions suivantes. Vérifiez le à l'aide de la fonction `type()`:\n",
    "\n",
    "* `5`\n",
    "* `5.0`\n",
    "* `\"5\"`\n",
    "* `-5`\n",
    "* `5 / 2`\n",
    "* `5 // 2`\n",
    "* ` 5 == 2  `\n",
    "* `5 = 2`"
   ]
  },
  {
   "cell_type": "code",
   "execution_count": 17,
   "metadata": {},
   "outputs": [
    {
     "output_type": "error",
     "ename": "SyntaxError",
     "evalue": "invalid syntax (<ipython-input-17-6c300c7b8213>, line 8)",
     "traceback": [
      "\u001b[1;36m  File \u001b[1;32m\"<ipython-input-17-6c300c7b8213>\"\u001b[1;36m, line \u001b[1;32m8\u001b[0m\n\u001b[1;33m    type((5 = 2))\u001b[0m\n\u001b[1;37m            ^\u001b[0m\n\u001b[1;31mSyntaxError\u001b[0m\u001b[1;31m:\u001b[0m invalid syntax\n"
     ]
    }
   ],
   "source": [
    "type(5)\n",
    "type(5.0)\n",
    "type(\"5\")\n",
    "type(-5)\n",
    "type(5 / 2)\n",
    "type(5 // 2)\n",
    "type(5 == 2)\n",
    "type(5 = 2)"
   ]
  },
  {
   "cell_type": "code",
   "execution_count": 7,
   "metadata": {},
   "outputs": [
    {
     "output_type": "execute_result",
     "data": {
      "text/plain": "bool"
     },
     "metadata": {},
     "execution_count": 7
    }
   ],
   "source": [
    "type(5 == 2)"
   ]
  },
  {
   "cell_type": "markdown",
   "metadata": {},
   "source": [
    "Ce sont les types de base du langage Python que nous allons étudier dans la suite. Notez que les nombres flottants s'écrivent avec un point et non avec une virgule.\n",
    "\n",
    "2. Faites la même chose avec les expressions suivantes:\n",
    "\n",
    "* `(5, 2)`\n",
    "* `[5, 2]`\n",
    "* `{5, 2}`\n"
   ]
  },
  {
   "cell_type": "code",
   "execution_count": 13,
   "metadata": {
    "tags": []
   },
   "outputs": [
    {
     "output_type": "stream",
     "name": "stdout",
     "text": "hola\n"
    }
   ],
   "source": [
    "(5, 2) #tuple\n",
    "[5, 2] #list\n",
    "# px pas modif tuple mais list si\n",
    "{5, 2} #dictionnaire index valeurs \n",
    "\n",
    "bonjour = {\"français\": \"salut\", \"espagnol\": \"hola\"}\n",
    "bonjour[\"français\"]\n",
    "# donne'salut'\n",
    "\n",
    "langue = \"espagnol\"\n",
    "print(bonjour[langue])"
   ]
  },
  {
   "cell_type": "code",
   "execution_count": 16,
   "metadata": {},
   "outputs": [
    {
     "output_type": "execute_result",
     "data": {
      "text/plain": "float"
     },
     "metadata": {},
     "execution_count": 16
    }
   ],
   "source": [
    "type ((5.2))"
   ]
  },
  {
   "cell_type": "code",
   "execution_count": 19,
   "metadata": {},
   "outputs": [
    {
     "output_type": "execute_result",
     "data": {
      "text/plain": "list"
     },
     "metadata": {},
     "execution_count": 19
    }
   ],
   "source": [
    "type ([5.2])"
   ]
  },
  {
   "cell_type": "code",
   "execution_count": 20,
   "metadata": {},
   "outputs": [
    {
     "output_type": "execute_result",
     "data": {
      "text/plain": "set"
     },
     "metadata": {},
     "execution_count": 20
    }
   ],
   "source": [
    "type ({5, 2})"
   ]
  },
  {
   "cell_type": "markdown",
   "metadata": {},
   "source": [
    "Ce sont des types avancés, qui permettent de construire des structures de données plus complexes, que nous apprendrons à manipuler plus tard. Pouvez-vous trouver une expression ayant un autre type?  Vous pouvez consulter la [documentation Python sur les types](https://docs.python.org/fr/3/library/stdtypes.html).\n",
    "\n",
    "3. Maintenant, affectez une valeur à une variable `x`, et écrivez le code qui affiche, par exemple, `le type de x est <class 'int'>` si jamais la valeur stockée dans `x` est un entier.\n"
   ]
  },
  {
   "cell_type": "code",
   "execution_count": 49,
   "metadata": {},
   "outputs": [
    {
     "output_type": "execute_result",
     "data": {
      "text/plain": "True"
     },
     "metadata": {},
     "execution_count": 49
    }
   ],
   "source": [
    "x=5\n",
    "(type(x) is int)"
   ]
  },
  {
   "cell_type": "code",
   "execution_count": null,
   "metadata": {},
   "outputs": [],
   "source": [
    "\"rappel: marche pas car int string : type(x)==\"int\"\""
   ]
  },
  {
   "cell_type": "markdown",
   "metadata": {},
   "source": [
    "\n",
    "### 3.1 Type numérique entier\n",
    "\n",
    "1. Affectez une valeur entière à une variable `v`.\n"
   ]
  },
  {
   "cell_type": "code",
   "execution_count": 5,
   "metadata": {},
   "outputs": [],
   "source": [
    "v=167"
   ]
  },
  {
   "cell_type": "markdown",
   "metadata": {},
   "source": [
    "2. Ecrivez le résultat de la division entière de `v` par 11. Par exemple, si `v` vaut 149, le résultat affiché doit être de la forme: \n",
    "\n",
    "`149 = 13 x 11 + 6`"
   ]
  },
  {
   "cell_type": "code",
   "execution_count": 6,
   "metadata": {
    "tags": []
   },
   "outputs": [
    {
     "output_type": "stream",
     "name": "stdout",
     "text": "15 = 15.181818181818182 x 11 + 2\n"
    }
   ],
   "source": [
    "print(v//11, \"=\", v/11, \"x 11 +\", v%11)"
   ]
  },
  {
   "cell_type": "markdown",
   "metadata": {},
   "source": [
    "3. Prédisez le résultat des expressions suivantes, puis évaluer le code:\n",
    "* `3 * (10 / 3)`\n",
    "* `3 * (10 // 3)`\n",
    "* `(3 * 10) // 3`"
   ]
  },
  {
   "cell_type": "code",
   "execution_count": 14,
   "metadata": {},
   "outputs": [
    {
     "output_type": "execute_result",
     "data": {
      "text/plain": "10.0"
     },
     "metadata": {},
     "execution_count": 14
    }
   ],
   "source": [
    "3 * (10 / 3)"
   ]
  },
  {
   "cell_type": "code",
   "execution_count": 15,
   "metadata": {},
   "outputs": [
    {
     "output_type": "execute_result",
     "data": {
      "text/plain": "9"
     },
     "metadata": {},
     "execution_count": 15
    }
   ],
   "source": [
    "3 * (10 // 3)"
   ]
  },
  {
   "cell_type": "code",
   "execution_count": 16,
   "metadata": {},
   "outputs": [
    {
     "output_type": "execute_result",
     "data": {
      "text/plain": "10"
     },
     "metadata": {},
     "execution_count": 16
    }
   ],
   "source": [
    "(3 * 10) // 3"
   ]
  },
  {
   "cell_type": "markdown",
   "metadata": {},
   "source": [
    "5. Le résultat change-t'il si on retire les parenthèses des expressions précédentes?"
   ]
  },
  {
   "cell_type": "code",
   "execution_count": null,
   "metadata": {},
   "outputs": [],
   "source": [
    "#oui les parentheses passent en priorite"
   ]
  },
  {
   "cell_type": "markdown",
   "metadata": {},
   "source": [
    "\n",
    "6. Affectez un nombre entier à une variable, puis écrivez une expression qui affiche `True` si la variable est paire et `False` sinon."
   ]
  },
  {
   "cell_type": "code",
   "execution_count": 28,
   "metadata": {
    "tags": []
   },
   "outputs": [
    {
     "output_type": "stream",
     "name": "stdout",
     "text": "False\nTrue\n"
    }
   ],
   "source": [
    "n = 8\n",
    "type(n//2) == int\n",
    "print((n%2) == 0)\n"
   ]
  },
  {
   "cell_type": "markdown",
   "metadata": {},
   "source": [
    "7. L'opérateur puissance s'écrit `**`. Par exemple, 2 à la puissance 10 s'écrit `2 ** 10`. Affichez la valeur de 2 puissance 256. Combien de chiffres a ce nombre (en évitant de compter sur l'écran)?"
   ]
  },
  {
   "cell_type": "code",
   "execution_count": 30,
   "metadata": {
    "tags": []
   },
   "outputs": [
    {
     "output_type": "execute_result",
     "data": {
      "text/plain": "233286172589205382333058118897425728180033237058391792284939064037246472999371275159316269503649288887574319360201844944889355182694238334949291373418161519860433812822195210083599914574389656126185912556600751454889198474839363737835105497893184771441572507682019389504232408112223671889767490314214553095221443325942464314641423061061511076383633708205788176660946274947039755500858805679703614955425785483372494116658852545132173472822696733268624845440069106028241514615925490239630059405752443139662169297696486716902752963291829097707400417822853355457416136800952690343419631620686260053304126101251873745501065437109663245417742828760666648348486793412010186059156273332193932569429763122165403307572896894947970600629449040664821860918717830621236080955927992651917630383571757031592327819721606555382831623802291502550265880317192542559494551968041988828338478411921815079950426567373238637982984750844550509507551002519515158738621593206116505440841467531154548072822903843511145555926601689776878269748510181018178618832159397056683940794986690781051073060292441120258799589595841385777609367187563475382730801837507049293991030102419908436264730635849133969019681114958831639629967659306899324173881577129302489206117166962623720882444490547244903584341672305122864320144995334285500057550117398718234036247575785605250663276320807848740223963686937139354608915379262818062044916078775159676278716784863024688367875336924510220203504363101777062810176705433893563387370330686193140348974496344260624284456743183493933393558962694524305950468442527998669604575189129829996280451220181386958217588073679705865214098400896435308003847150794209420670870425240587484867438852488873497428662071595228693694224375057281402236747213894602957716636356595093937501841315563384550855323559782747823373163099054101739518448635160041468771420646362868911726455204243605142182736467334357321206207261695572649043219553309105764377449006652132679978657589804560327224760790622563870040868646030969699126513068601604157711647357978278410572764918415002150528288136290325358446621678570296728104552914930215749565795041176830973633013752084819498861853552150915897801448017413568698287484133827996776475683434117798400875688016849403754371659798516336518618639287239201023852963043909776797952932511370124133834769640617351070814638819362598589898370842155246373441206281535747163054570978242763453149494977856362617016696952824397953144815534401991160625570276149792336426523577461074597752718359014427592928051206934950042952885259806538338594722493207078728918532940010129625457025003624600173660131299647958370379707596343704277790735729911380312503976076717384842756000666102350193683658540504531176317409719996167275476925347871718450122335880528019595219085201077758315906422956203036082451646178139083311150623158427385092217881948798496770645267886092398203612660406559699071233946296609596071019551385453323714338417035914969190036133371355144030397202510828318311244601010855839515324785259510903372682512649180625492584574402716732595723171228979389541073556848156066461256818399796414616057801696257695281218658846162180128495536326616706662394442778565532731206774393024420554962211372129586887162976337961832128054121383792558730545812588711935006478215496000870519258873923449304796120955249038969095080709172067158735119679105494347678938440447250776235105873739218271149712052207142610233878149097939012625810548818745858676147591353995903738300485788426851587998219678286506356856737829768371084577121580201539675746850182291985775475591742610360464416514301613808678892226247664254300265367590669399807652152071191945556789115173396960108067203879436573102500041841301915007291604319955655883087112674310228196576409105059521747426098448180707493483660132629489975694950269835938188385930628762367671452579907827904342686039205328687187447965245859693968851872205361976905822240090926284064937166858852978982869506117560820250275331124981292580817931903234231466424015773604900908839837524224511359706312828322672189067936215183196671895036019006943230479933821823984964787255160869867498112182258967003821570859964578295624555746601889506365612247785012730530924002748211591992288971903665989620441081981830404350868583747459241329935097488392974779201106672526450862261004888886657272992119456489235058621917641324877155853698849582013045426825890043100930749959986951897077735901495109006243854420517971922655683691745034640183442240830772005848246686950023856273458247329652189282863311301261267832841969638239420514005833148217711087844048387328649407197575818458552108579567743024063586120565542969775651914600462559529671145516471067812415187582362385492116903723084625119455210240432653929651252746516397824640812184804539998043928396279264319674999833738396231349775860893288474086573711558676332304064629798504564218987823276628230047715754000159352792883487053369837017914908072326174496232267849630329741849553894850539971444020099383533726526050471950731885436845953221265285108338489261525705228011850541224864708568925119394198871821393171762150743077979503262412437367684365568567498770323308082377776090812430766807646465768884671082626952718934411017038975488578026476112381264450618928257425711464409167061118733308058224379179150594576691729063823115492437645886105364143654465698338322772515105185931069373081050043635888166648156680511105407311755505982494043881932146799959604266391964323679417458141494083260969803367031714079779777950680495141507160559184799931617727021991582079181555987227061761852949829673200940067780083459794368788060097669822801715428903930815703511543296428065277097413575303290401318624860220722682657777647961698968932169614222514576934325912536866208235221144510891015806355948093833452229010573255580457943686130753303450898234967837053037326557888336713110528313805235216917287577305717244072020784576417280726748896313238115114658386772907636813938813463632362366251818654827213252209944319431235859869819298043642967811604861901426497485154595370402241996627857979515648860824914940582965244072539880695180124725089102363821189555811516228888736903350101678084441780310714802768427230012550306558159643616611613283808662721792631490713261806084915540482070230015673416178632465294578631977466785713500861813090104854144954688525009121299755514972065112811884167955449991678437529045868530317547035854578082667956623462967777346946353877772873841795728061949226836420523274977076113586346007413696681434209219149372711854866338085523382414122289288488590984578642866035372093252508323131987353305659540731947581000146822488150285217289231485773537616139102289666510578615365583425380755053169840302518003403361853815758525917902452940499388371149499828914707559033221414959657746113746003374000794267256246139219954707375300587563354685757165395832268941735997708589054210786576859570910293208365378712729419325427282110905979100123014429613263239774725386169756210977053102934657825947320640061924638379031429558103758995718147658653326273978645034429801890959452038574036252623771769757149332943317992726087968279549996044790388890483704074397025196170872073676447770104518380915080712934831159320756753439655968922104573535448217102713924987875304181415978972027867410231211870666540387087589730745620202958234028599225281693052297965740845036623835376334929745693287260223837186061518285856801590211351569786775406709379194092367260692293195536479955065403753119931423269537172303119821137786189105601141817863187113341846528836525150754595725264676582658270686863764293698018478585422855736171541760232345048657121939194508785763620666242116304020989858128888858784591809432875509023840029292198134003676892808155102815910547685376"
     },
     "metadata": {},
     "execution_count": 30
    }
   ],
   "source": [
    "2**25600"
   ]
  },
  {
   "cell_type": "markdown",
   "metadata": {},
   "source": [
    "**Note**:  les nombres entiers ont une précision arbitraire."
   ]
  },
  {
   "cell_type": "code",
   "execution_count": 34,
   "metadata": {},
   "outputs": [
    {
     "output_type": "execute_result",
     "data": {
      "text/plain": "78"
     },
     "metadata": {},
     "execution_count": 34
    }
   ],
   "source": [
    "len(str(2**256))"
   ]
  },
  {
   "cell_type": "code",
   "execution_count": 33,
   "metadata": {},
   "outputs": [
    {
     "output_type": "execute_result",
     "data": {
      "text/plain": "3"
     },
     "metadata": {},
     "execution_count": 33
    }
   ],
   "source": [
    "str(3) #ENTIER DONNE CHAR       \"3\"\n",
    "int(\"3\") #CHAR DONNE ENTIER      3"
   ]
  },
  {
   "cell_type": "raw",
   "metadata": {},
   "source": [
    "Ecrire l'expression qui donne le dernier chiffre du nombre référencé par la variable `a`."
   ]
  },
  {
   "cell_type": "raw",
   "metadata": {},
   "source": [
    "Ecrire l'expression qui donne l'avant-dernier chiffre du nombre référencé par la variable `a`."
   ]
  },
  {
   "cell_type": "markdown",
   "metadata": {},
   "source": [
    "\n",
    "### 3.2 Nombres flottants\n",
    "\n",
    "1. L'expression `0.2 + 0.4` est-elle égale, supérieure ou inférieure à `0.6`?"
   ]
  },
  {
   "cell_type": "code",
   "execution_count": 36,
   "metadata": {
    "tags": []
   },
   "outputs": [
    {
     "output_type": "execute_result",
     "data": {
      "text/plain": "0.6000000000000001"
     },
     "metadata": {},
     "execution_count": 36
    }
   ],
   "source": [
    "0.2 + 0.4\n",
    "# SOMME 2 FLOTTANTS FAIT ARRONDI 0.6000000000000001"
   ]
  },
  {
   "cell_type": "code",
   "execution_count": null,
   "metadata": {},
   "outputs": [],
   "source": [
    "0.2 + 0.4 == 6 \n",
    "#FALSE"
   ]
  },
  {
   "cell_type": "markdown",
   "metadata": {},
   "source": [
    "2. Affectez la valeur 0.5 à une variable `x`. Multipliez `x` par $2^{30}$ puis convertissez le résultat obtenu en valeur entière (utilisez la fonction `int()`) puis divisez le résultat par $2^{30}$ (faire une division flottante)."
   ]
  },
  {
   "cell_type": "code",
   "execution_count": 40,
   "metadata": {},
   "outputs": [
    {
     "output_type": "execute_result",
     "data": {
      "text/plain": "0.5"
     },
     "metadata": {},
     "execution_count": 40
    }
   ],
   "source": [
    "X = 0.5\n",
    "Y = 2**30\n",
    "\n",
    "int(X * Y)/Y"
   ]
  },
  {
   "cell_type": "markdown",
   "metadata": {},
   "source": [
    "3. Remplacez la valeur de `x` par 0.1 et refaites le calcul."
   ]
  },
  {
   "cell_type": "markdown",
   "metadata": {},
   "source": [
    "4. Pouvez-vous trouver d'autres valeurs de `x` pour lesquelles l'expression calculée redonne la valeur de `x`?\n",
    "\n",
    "**Note**: les nombres flottants que l'on manipule sont en fait une approximation de ces nombres. Pour plus de détails, vous pouvez consulter [cet article](https://docs.python.org/fr/3.8/tutorial/floatingpoint.html)."
   ]
  },
  {
   "cell_type": "markdown",
   "metadata": {},
   "source": [
    "### 3.3 Chaînes de caractères"
   ]
  },
  {
   "cell_type": "markdown",
   "metadata": {},
   "source": [
    "1. Dans la cellule de code suivante, affichez le résultat de l'expression `a + b`, et de `b + a`"
   ]
  },
  {
   "cell_type": "code",
   "execution_count": 44,
   "metadata": {
    "tags": []
   },
   "outputs": [
    {
     "output_type": "execute_result",
     "data": {
      "text/plain": "&#39;helloworld&#39;"
     },
     "metadata": {},
     "execution_count": 44
    }
   ],
   "source": [
    "a = \"hello\"\n",
    "b = 'world'\n",
    "\n",
    "a  +  b "
   ]
  },
  {
   "cell_type": "markdown",
   "metadata": {},
   "source": [
    "**Notes**: les chaînes de caractères peuvent s'écrire avec des guillemets simples ou doubles (d'autres formes existent). L'opération d'addition de chaînes est appelée *concaténation*.\n",
    "\n",
    "2. Dans la cellule précédente, ajoutez un espace entre `hello` et `world` sans modifier les variables."
   ]
  },
  {
   "cell_type": "markdown",
   "metadata": {},
   "source": [
    "3. Avant d'afficher le résultat, prédire ce que valent `a * 3` et `(a + b) * 2`?"
   ]
  },
  {
   "cell_type": "code",
   "execution_count": 47,
   "metadata": {
    "tags": []
   },
   "outputs": [
    {
     "output_type": "execute_result",
     "data": {
      "text/plain": "&#39;helloworldhelloworld&#39;"
     },
     "metadata": {},
     "execution_count": 47
    }
   ],
   "source": [
    "a * 3\n",
    "(a + b) * 2"
   ]
  },
  {
   "cell_type": "code",
   "execution_count": 50,
   "metadata": {},
   "outputs": [
    {
     "output_type": "execute_result",
     "data": {
      "text/plain": "&#39;titi&#39;"
     },
     "metadata": {},
     "execution_count": 50
    }
   ],
   "source": [
    "x = [8, 2, 8, 9, \"titi\"]\n",
    "#    0  1  2  3    4\n",
    "\n",
    "x[4]"
   ]
  },
  {
   "cell_type": "markdown",
   "metadata": {},
   "source": [
    "4. On peut appliquer des *méthodes* (ce sont des fonctions qui s'appliquent à un certain type d'objets) à une chaîne de caractères. Par exemple tester ce que vaut `a.upper()`."
   ]
  },
  {
   "cell_type": "code",
   "execution_count": 51,
   "metadata": {},
   "outputs": [
    {
     "output_type": "execute_result",
     "data": {
      "text/plain": "&#39;salut&#39;"
     },
     "metadata": {},
     "execution_count": 51
    }
   ],
   "source": [
    "#a.upper()\n",
    "a=\"SALUT\"\n",
    "\n",
    "# méthode != fonction (methode = association objet PARTICULIER)  LE a. pr methode= pr chaine caracteres\n",
    "\n",
    "a.lower()\n"
   ]
  },
  {
   "cell_type": "markdown",
   "metadata": {},
   "source": [
    "Vous pouvez voir la liste des méthodes associées aux chaînes de caractères (ainsi que sur les autres types natifs) sur [cette page](https://docs.python.org/fr/3/library/stdtypes.html#string-methods).\n",
    "\n",
    "5. La variable `a` a-t'elle été modifiée?"
   ]
  },
  {
   "cell_type": "code",
   "execution_count": null,
   "metadata": {},
   "outputs": [],
   "source": []
  },
  {
   "cell_type": "markdown",
   "metadata": {},
   "source": [
    "6. Que vaut `a > b`?"
   ]
  },
  {
   "cell_type": "code",
   "execution_count": 52,
   "metadata": {
    "tags": []
   },
   "outputs": [
    {
     "output_type": "execute_result",
     "data": {
      "text/plain": "False"
     },
     "metadata": {},
     "execution_count": 52
    }
   ],
   "source": [
    "'b' < 'a'\n",
    "donne false\n",
    "#ordre alphabetique"
   ]
  },
  {
   "cell_type": "markdown",
   "metadata": {},
   "source": [
    "7. Quelle est la signification de cette comparaison?"
   ]
  },
  {
   "cell_type": "markdown",
   "metadata": {},
   "source": [
    "### 3.4 Conversions"
   ]
  },
  {
   "cell_type": "markdown",
   "metadata": {},
   "source": [
    "1. Dans la cellule de code suivante, devinez ce que vaut `a * 2` avant de l'afficher."
   ]
  },
  {
   "cell_type": "code",
   "execution_count": 53,
   "metadata": {
    "tags": []
   },
   "outputs": [
    {
     "output_type": "execute_result",
     "data": {
      "text/plain": "&#39;3232&#39;"
     },
     "metadata": {},
     "execution_count": 53
    }
   ],
   "source": [
    "a = \"32\"\n",
    "a*2"
   ]
  },
  {
   "cell_type": "code",
   "execution_count": 54,
   "metadata": {},
   "outputs": [
    {
     "output_type": "execute_result",
     "data": {
      "text/plain": "64"
     },
     "metadata": {},
     "execution_count": 54
    }
   ],
   "source": [
    "int(a)*2 #int transfo en nbre"
   ]
  },
  {
   "cell_type": "markdown",
   "metadata": {},
   "source": [
    "3. Ecrivez l'expression `s = input(\"Tape quelquechose au clavier\")` puis affichez `s`. Que se passe-t'il?"
   ]
  },
  {
   "cell_type": "code",
   "execution_count": 63,
   "metadata": {
    "tags": []
   },
   "outputs": [
    {
     "output_type": "stream",
     "name": "stdout",
     "text": "32\n"
    }
   ],
   "source": [
    "s = input(\"tape quelquechose au clavier\")\n",
    "print(a)\n",
    "#donne chiffre\n",
    "#REGARDE EN HAUT PR ENTRER CHIFFRE"
   ]
  },
  {
   "cell_type": "markdown",
   "metadata": {},
   "source": [
    "4. Recopiez le code de la cellule précédente. L'utilisateur doit saisir un nombre entier puis vous affichez ce nombre multiplié par 2."
   ]
  },
  {
   "cell_type": "code",
   "execution_count": 61,
   "metadata": {
    "tags": []
   },
   "outputs": [
    {
     "output_type": "execute_result",
     "data": {
      "text/plain": "&#39;3232&#39;"
     },
     "metadata": {},
     "execution_count": 61
    }
   ],
   "source": [
    "s = input(\"nombre\")\n",
    "a*2\n",
    "#donne chiffre mais pas converti en int"
   ]
  },
  {
   "cell_type": "markdown",
   "metadata": {},
   "source": [
    "5. ́Ecrivez le code qui demande son âge à l’utilisateur et répond en utilisant sa réponse au milieu d’une phrase, comme par exemple en lui donnant l’âge qu’il aura en 2031 le même jour."
   ]
  },
  {
   "cell_type": "code",
   "execution_count": 70,
   "metadata": {
    "tags": []
   },
   "outputs": [
    {
     "output_type": "stream",
     "name": "stdout",
     "text": "EN 2031 TU AURAS 29 ANS\n"
    }
   ],
   "source": [
    "a = input(\"ton age fdp\")\n",
    "print(\"EN 2031 TU AURAS\", int(a) + 11, \"ANS\")"
   ]
  },
  {
   "cell_type": "code",
   "execution_count": null,
   "metadata": {},
   "outputs": [],
   "source": [
    "a = input(\"ton age\")\n",
    "print(\"babab.\".format(int(a) + 11))"
   ]
  },
  {
   "cell_type": "code",
   "execution_count": 72,
   "metadata": {
    "tags": []
   },
   "outputs": [
    {
     "output_type": "stream",
     "name": "stdout",
     "text": "18\n"
    }
   ],
   "source": [
    "print(a)"
   ]
  },
  {
   "cell_type": "markdown",
   "metadata": {},
   "source": [
    "6. Avant de passer à la suite, sauvegardez votre notebook sur github."
   ]
  },
  {
   "cell_type": "code",
   "execution_count": 73,
   "metadata": {
    "tags": []
   },
   "outputs": [
    {
     "output_type": "stream",
     "name": "stdout",
     "text": "a\n&lt;class &#39;NoneType&#39;&gt;\n&lt;class &#39;builtin_function_or_method&#39;&gt;\n"
    }
   ],
   "source": [
    "print(type(print(\"a\")))\n",
    "print(type(print))"
   ]
  },
  {
   "cell_type": "markdown",
   "metadata": {},
   "source": [
    "---\n",
    "## Exercices supplémentaires"
   ]
  },
  {
   "cell_type": "markdown",
   "metadata": {
    "tags": []
   },
   "source": [
    "1. Parmi les chaînes de caractères suivantes, lesquelles peuvent être des noms de variable?\n",
    "* `f`\n",
    "* `l`\n",
    "* `f2`\n",
    "* `2f`\n",
    "* `totolehero`\n",
    "* `toto_le_hero`\n",
    "* `import`\n",
    "* `toto2-le-retour`\n",
    "\n",
    "Et parmi les noms corrects, lesquels ne sont pas recommandés (voir la [PEP8](https://www.python.org/dev/peps/pep-0008/#naming-conventions))?\n"
   ]
  },
  {
   "cell_type": "markdown",
   "metadata": {},
   "source": [
    "2. Demandez à l'utilisateur de rentrer un nombre, puis afficher sa racine carrée en faisant une phrase."
   ]
  },
  {
   "cell_type": "code",
   "execution_count": 12,
   "metadata": {
    "tags": []
   },
   "outputs": [
    {
     "output_type": "stream",
     "name": "stdout",
     "text": "9 serait mieux\n"
    }
   ],
   "source": [
    "n  = int(input(\"jte baise a quelle frequence\"))\n",
    "print( n*n , \"serait mieux\")"
   ]
  },
  {
   "cell_type": "markdown",
   "metadata": {},
   "source": [
    "3. Ecrivez le code qui affiche:\n",
    "* la chaı̂ne ”aaaaaa...” (250 ”a”)\n",
    "* la chaı̂ne ”bbbb....a” (250 ”b” suivis d’un ”a”)\n",
    "* la chaı̂ne ”bbbb....aaabbb...” (250 ”b” suivis d’un ”a” suivi de 100 b)\n",
    "* 50 fois ”bonjour” en allant à la ligne à chaque fois (utilisez ”\\n”)\n"
   ]
  },
  {
   "cell_type": "code",
   "execution_count": 14,
   "metadata": {
    "tags": []
   },
   "outputs": [
    {
     "output_type": "stream",
     "name": "stdout",
     "text": "jejejejejejejejejejejejejejejejejejejejejejejejejejejejejejejejejejejejejejejejejejejejejejejejejejejejejejejejejejejejejejejejejejejejejejejejejejejejejejejejejejejejejejejejejejejejejejejejejejejejejejejejejejejejejejejejejejejejejejejejejejejejejejejejejejejejejejejejejejejejejejejejejejejejejejejejejejejejejejejejejejejejejejejejejejejejejejejejejejejejejejejejejejejejejejejejejejejejejejejejejejejejejejejejejejejejejejejejejejejejejejejejejejejejejejejejejejejejejejejejejejejejejejejejejeje t&#39;ent&#39;ent&#39;ent&#39;ent&#39;ent&#39;ent&#39;ent&#39;ent&#39;ent&#39;ent&#39;ent&#39;ent&#39;ent&#39;ent&#39;ent&#39;ent&#39;ent&#39;ent&#39;ent&#39;ent&#39;ent&#39;ent&#39;ent&#39;ent&#39;ent&#39;ent&#39;ent&#39;ent&#39;ent&#39;ent&#39;ent&#39;ent&#39;ent&#39;ent&#39;ent&#39;ent&#39;ent&#39;ent&#39;ent&#39;ent&#39;ent&#39;ent&#39;ent&#39;ent&#39;ent&#39;en culeculeculeculeculeculeculeculeculeculeculeculeculeculeculeculeculeculeculeculeculeculeculeculeculeculeculeculeculeculeculeculeculeculeculeculeculeculeculeculeculeculeculeculeculeculeculeculeculeculeculeculeculeculeculeculeculeculeculeculeculeculeculeculeculeculeculeculeculeculeculeculeculeculeculeculeculeculeculeculeculeculeculeculeculeculeculeculeculeculeculeculeculeculeculeculeculeculeculeculeculeculeculeculeculeculeculeculeculeculeculeculeculeculeculeculeculeculeculeculeculeculeculeculeculeculeculeculeculeculeculeculeculeculeculeculeculeculeculeculeculeculeculeculeculeculeculeculeculeculeculeculeculeculeculeculeculeculeculeculeculeculeculeculeculeculeculeculeculeculeculeculeculeculeculeculeculeculeculeculeculeculeculeculeculeculeculeculeculeculeculeculeculeculeculeculeculeculeculeculeculeculeculeculeculeculeculeculeculeculeculeculeculeculeculeculeculeculeculeculeculeculeculeculeculeculeculeculeculeculeculeculeculeculeculeculeculeculeculeculeculeculeculeculeculeculeculeculeculeculeculeculeculeculeculeculeculeculeculeculeculeculeculeculeculeculeculeculeculeculeculeculeculeculeculeculeculeculeculeculeculeculeculeculeculeculeculeculeculeculeculeculeculeculeculeculeculeculeculeculeculeculeculeculeculeculeculeculeculeculeculeculeculeculeculeculeculeculeculeculeculeculeculeculeculeculeculeculeculeculeculeculeculeculeculeculeculeculeculeculeculeculeculeculeculeculeculeculeculeculeculeculeculeculeculeculeculeculeculeculeculeculeculeculeculeculeculeculeculeculeculeculeculeculeculeculeculeculeculeculeculeculeculeculeculeculeculeculeculeculeculeculeculeculeculeculeculeculeculeculeculeculeculeculeculeculeculeculeculeculeculeculeculeculeculeculeculeculeculeculeculeculeculeculeculeculeculeculeculeculeculeculeculeculeculeculeculeculeculeculeculeculeculeculeculeculeculeculeculeculeculeculeculeculeculeculeculeculeculeculeculeculeculeculeculeculeculeculeculeculeculeculeculeculeculeculeculeculeculeculeculeculeculeculeculeculeculeculeculeculeculeculeculeculeculeculeculeculeculeculeculeculeculeculeculeculeculeculeculeculeculeculeculeculeculeculeculeculeculeculeculeculeculeculeculeculeculeculeculeculeculeculeculeculeculeculeculeculeculeculeculeculeculeculeculeculeculeculeculeculeculeculeculeculeculeculeculeculeculeculeculeculeculeculeculeculecule\n"
    }
   ],
   "source": [
    "print(250 * \"je\", 46 * \"t'en\", 567 * \"cule\" )"
   ]
  },
  {
   "cell_type": "code",
   "execution_count": 19,
   "metadata": {
    "tags": []
   },
   "outputs": [
    {
     "output_type": "stream",
     "name": "stdout",
     "text": "bonjour\nbonjour\nbonjour\nbonjour\nbonjour\nbonjour\nbonjour\nbonjour\nbonjour\nbonjour\nbonjour\nbonjour\nbonjour\nbonjour\nbonjour\nbonjour\nbonjour\nbonjour\nbonjour\nbonjour\nbonjour\nbonjour\nbonjour\nbonjour\nbonjour\nbonjour\nbonjour\nbonjour\nbonjour\nbonjour\nbonjour\nbonjour\nbonjour\nbonjour\n\n"
    }
   ],
   "source": [
    "print(\"bonjour\\n\")"
   ]
  },
  {
   "cell_type": "code",
   "execution_count": null,
   "metadata": {},
   "outputs": [],
   "source": []
  }
 ],
 "metadata": {
  "kernelspec": {
   "display_name": "Python 3",
   "language": "python",
   "name": "python3"
  },
  "language_info": {
   "codemirror_mode": {
    "name": "ipython",
    "version": 3
   },
   "file_extension": ".py",
   "mimetype": "text/x-python",
   "name": "python",
   "nbconvert_exporter": "python",
   "pygments_lexer": "ipython3",
   "version": "3.8.5-final"
  }
 },
 "nbformat": 4,
 "nbformat_minor": 1
}